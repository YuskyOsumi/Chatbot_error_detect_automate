{
 "cells": [
  {
   "cell_type": "code",
   "execution_count": 1,
   "metadata": {
    "collapsed": true
   },
   "outputs": [
    {
     "name": "stdout",
     "output_type": "stream",
     "text": [
      "Requirement already satisfied: pandas in c:\\users\\yusuke osumi\\appdata\\local\\programs\\python\\python37-32\\lib\\site-packages (0.23.3)\n",
      "Requirement already satisfied: numpy>=1.9.0 in c:\\users\\yusuke osumi\\appdata\\local\\programs\\python\\python37-32\\lib\\site-packages (from pandas) (1.15.0)\n",
      "Requirement already satisfied: pytz>=2011k in c:\\users\\yusuke osumi\\appdata\\local\\programs\\python\\python37-32\\lib\\site-packages (from pandas) (2018.5)\n",
      "Requirement already satisfied: python-dateutil>=2.5.0 in c:\\users\\yusuke osumi\\appdata\\local\\programs\\python\\python37-32\\lib\\site-packages (from pandas) (2.7.3)\n",
      "Requirement already satisfied: six>=1.5 in c:\\users\\yusuke osumi\\appdata\\local\\programs\\python\\python37-32\\lib\\site-packages (from python-dateutil>=2.5.0->pandas) (1.11.0)\n"
     ]
    }
   ],
   "source": [
    "import csv,pyperclip\n",
    "import pandas as pd"
   ]
  },
  {
   "cell_type": "code",
   "execution_count": 4,
   "metadata": {
    "collapsed": true
   },
   "outputs": [
    {
     "name": "stdout",
     "output_type": "stream",
     "text": [
      "(733, 8)\n"
     ]
    },
    {
     "data": {
      "text/html": [
       "<div>\n",
       "<style scoped>\n",
       "    .dataframe tbody tr th:only-of-type {\n",
       "        vertical-align: middle;\n",
       "    }\n",
       "\n",
       "    .dataframe tbody tr th {\n",
       "        vertical-align: top;\n",
       "    }\n",
       "\n",
       "    .dataframe thead th {\n",
       "        text-align: right;\n",
       "    }\n",
       "</style>\n",
       "<table border=\"1\" class=\"dataframe\">\n",
       "  <thead>\n",
       "    <tr style=\"text-align: right;\">\n",
       "      <th></th>\n",
       "      <th>TIME</th>\n",
       "      <th>SESSIONID</th>\n",
       "      <th>SPEAKER</th>\n",
       "      <th>TYPE</th>\n",
       "      <th>CONTENT</th>\n",
       "      <th>KEYWORD</th>\n",
       "      <th>ACCOUNTID</th>\n",
       "      <th>IPADDRESS</th>\n",
       "    </tr>\n",
       "  </thead>\n",
       "  <tbody>\n",
       "    <tr>\n",
       "      <th>0</th>\n",
       "      <td>2018-06-20 14:58:10.08</td>\n",
       "      <td>fe3d419b-3aac-45f5-8c4e-21f356bf1ac8</td>\n",
       "      <td>bot</td>\n",
       "      <td>open</td>\n",
       "      <td>NaN</td>\n",
       "      <td>NaN</td>\n",
       "      <td>NaN</td>\n",
       "      <td>NaN</td>\n",
       "    </tr>\n",
       "    <tr>\n",
       "      <th>1</th>\n",
       "      <td>2018-06-20 14:58:10.636</td>\n",
       "      <td>fe3d419b-3aac-45f5-8c4e-21f356bf1ac8</td>\n",
       "      <td>bot</td>\n",
       "      <td>question</td>\n",
       "      <td>こんにちは！&lt;br&gt;何か聞きたいことがございましたらお答えします。</td>\n",
       "      <td>NaN</td>\n",
       "      <td>NaN</td>\n",
       "      <td>127.0.0.1</td>\n",
       "    </tr>\n",
       "    <tr>\n",
       "      <th>2</th>\n",
       "      <td>2018-06-20 15:06:43.59</td>\n",
       "      <td>93fa1300-959d-4ed6-ac6a-f379ab498909</td>\n",
       "      <td>bot</td>\n",
       "      <td>open</td>\n",
       "      <td>NaN</td>\n",
       "      <td>NaN</td>\n",
       "      <td>NaN</td>\n",
       "      <td>NaN</td>\n",
       "    </tr>\n",
       "  </tbody>\n",
       "</table>\n",
       "</div>"
      ],
      "text/plain": [
       "                      TIME                             SESSIONID SPEAKER  \\\n",
       "0   2018-06-20 14:58:10.08  fe3d419b-3aac-45f5-8c4e-21f356bf1ac8     bot   \n",
       "1  2018-06-20 14:58:10.636  fe3d419b-3aac-45f5-8c4e-21f356bf1ac8     bot   \n",
       "2   2018-06-20 15:06:43.59  93fa1300-959d-4ed6-ac6a-f379ab498909     bot   \n",
       "\n",
       "       TYPE                            CONTENT KEYWORD ACCOUNTID  IPADDRESS  \n",
       "0      open                                NaN     NaN       NaN        NaN  \n",
       "1  question  こんにちは！<br>何か聞きたいことがございましたらお答えします。     NaN       NaN  127.0.0.1  \n",
       "2      open                                NaN     NaN       NaN        NaN  "
      ]
     },
     "execution_count": 4,
     "metadata": {},
     "output_type": "execute_result"
    }
   ],
   "source": [
    "df= pd.read_csv(r\"ファイルの名前.csv\" ,encoding='Shift_JISx0213')\n",
    "print(df.shape)\n",
    "df.head(3)"
   ]
  },
  {
   "cell_type": "code",
   "execution_count": 5,
   "metadata": {
    "collapsed": true
   },
   "outputs": [
    {
     "name": "stdout",
     "output_type": "stream",
     "text": [
      "(692, 8)\n"
     ]
    },
    {
     "data": {
      "text/html": [
       "<div>\n",
       "<style scoped>\n",
       "    .dataframe tbody tr th:only-of-type {\n",
       "        vertical-align: middle;\n",
       "    }\n",
       "\n",
       "    .dataframe tbody tr th {\n",
       "        vertical-align: top;\n",
       "    }\n",
       "\n",
       "    .dataframe thead th {\n",
       "        text-align: right;\n",
       "    }\n",
       "</style>\n",
       "<table border=\"1\" class=\"dataframe\">\n",
       "  <thead>\n",
       "    <tr style=\"text-align: right;\">\n",
       "      <th></th>\n",
       "      <th>TIME</th>\n",
       "      <th>SESSIONID</th>\n",
       "      <th>SPEAKER</th>\n",
       "      <th>TYPE</th>\n",
       "      <th>CONTENT</th>\n",
       "      <th>KEYWORD</th>\n",
       "      <th>ACCOUNTID</th>\n",
       "      <th>IPADDRESS</th>\n",
       "    </tr>\n",
       "  </thead>\n",
       "  <tbody>\n",
       "    <tr>\n",
       "      <th>1</th>\n",
       "      <td>2018-06-20 14:58:10.636</td>\n",
       "      <td>fe3d419b-3aac-45f5-8c4e-21f356bf1ac8</td>\n",
       "      <td>bot</td>\n",
       "      <td>question</td>\n",
       "      <td>こんにちは！&lt;br&gt;何か聞きたいことがございましたらお答えします。</td>\n",
       "      <td>NaN</td>\n",
       "      <td>NaN</td>\n",
       "      <td>127.0.0.1</td>\n",
       "    </tr>\n",
       "    <tr>\n",
       "      <th>3</th>\n",
       "      <td>2018-06-20 15:06:43.781</td>\n",
       "      <td>93fa1300-959d-4ed6-ac6a-f379ab498909</td>\n",
       "      <td>bot</td>\n",
       "      <td>question</td>\n",
       "      <td>こんにちは！&lt;br&gt;何か聞きたいことがございましたらお答えします。</td>\n",
       "      <td>NaN</td>\n",
       "      <td>NaN</td>\n",
       "      <td>127.0.0.1</td>\n",
       "    </tr>\n",
       "    <tr>\n",
       "      <th>5</th>\n",
       "      <td>2018-06-20 15:06:54.175</td>\n",
       "      <td>11f20d83-b94e-47cf-9006-196d6afbbeea</td>\n",
       "      <td>bot</td>\n",
       "      <td>question</td>\n",
       "      <td>こんにちは！&lt;br&gt;何か聞きたいことがございましたらお答えします。</td>\n",
       "      <td>NaN</td>\n",
       "      <td>NaN</td>\n",
       "      <td>39.110.199.252</td>\n",
       "    </tr>\n",
       "  </tbody>\n",
       "</table>\n",
       "</div>"
      ],
      "text/plain": [
       "                      TIME                             SESSIONID SPEAKER  \\\n",
       "1  2018-06-20 14:58:10.636  fe3d419b-3aac-45f5-8c4e-21f356bf1ac8     bot   \n",
       "3  2018-06-20 15:06:43.781  93fa1300-959d-4ed6-ac6a-f379ab498909     bot   \n",
       "5  2018-06-20 15:06:54.175  11f20d83-b94e-47cf-9006-196d6afbbeea     bot   \n",
       "\n",
       "       TYPE                            CONTENT KEYWORD ACCOUNTID  \\\n",
       "1  question  こんにちは！<br>何か聞きたいことがございましたらお答えします。     NaN       NaN   \n",
       "3  question  こんにちは！<br>何か聞きたいことがございましたらお答えします。     NaN       NaN   \n",
       "5  question  こんにちは！<br>何か聞きたいことがございましたらお答えします。     NaN       NaN   \n",
       "\n",
       "        IPADDRESS  \n",
       "1       127.0.0.1  \n",
       "3       127.0.0.1  \n",
       "5  39.110.199.252  "
      ]
     },
     "execution_count": 5,
     "metadata": {},
     "output_type": "execute_result"
    }
   ],
   "source": [
    "df=df.dropna(subset=['CONTENT'])\n",
    "print(df.shape)\n",
    "df.head(3)"
   ]
  },
  {
   "cell_type": "code",
   "execution_count": 6,
   "metadata": {
    "collapsed": true
   },
   "outputs": [
    {
     "data": {
      "text/plain": [
       "Int64Index([ 67,  69,  89,  91,  93,  95, 101, 149, 151, 185, 189, 191, 195,\n",
       "            197, 261, 265, 271, 285, 323, 325, 327, 329, 393, 459, 697],\n",
       "           dtype='int64')"
      ]
     },
     "execution_count": 6,
     "metadata": {},
     "output_type": "execute_result"
    }
   ],
   "source": [
    "idx =df[df['CONTENT'].str.contains('すみません')].index\n",
    "idx"
   ]
  },
  {
   "cell_type": "code",
   "execution_count": 7,
   "metadata": {},
   "outputs": [
    {
     "data": {
      "text/html": [
       "<div>\n",
       "<style scoped>\n",
       "    .dataframe tbody tr th:only-of-type {\n",
       "        vertical-align: middle;\n",
       "    }\n",
       "\n",
       "    .dataframe tbody tr th {\n",
       "        vertical-align: top;\n",
       "    }\n",
       "\n",
       "    .dataframe thead th {\n",
       "        text-align: right;\n",
       "    }\n",
       "</style>\n",
       "<table border=\"1\" class=\"dataframe\">\n",
       "  <thead>\n",
       "    <tr style=\"text-align: right;\">\n",
       "      <th></th>\n",
       "      <th>CONTENT</th>\n",
       "    </tr>\n",
       "  </thead>\n",
       "  <tbody>\n",
       "    <tr>\n",
       "      <th>66</th>\n",
       "      <td>ボディー外板でプラスチックの未塗装部分(バンパー、サイドガーニッシュ、フェンダーモール等)が...</td>\n",
       "    </tr>\n",
       "    <tr>\n",
       "      <th>68</th>\n",
       "      <td>管理者モード</td>\n",
       "    </tr>\n",
       "    <tr>\n",
       "      <th>88</th>\n",
       "      <td>時刻は？</td>\n",
       "    </tr>\n",
       "    <tr>\n",
       "      <th>90</th>\n",
       "      <td>今なんじ？</td>\n",
       "    </tr>\n",
       "    <tr>\n",
       "      <th>92</th>\n",
       "      <td>何時？</td>\n",
       "    </tr>\n",
       "    <tr>\n",
       "      <th>94</th>\n",
       "      <td>天気</td>\n",
       "    </tr>\n",
       "    <tr>\n",
       "      <th>100</th>\n",
       "      <td>時間は？</td>\n",
       "    </tr>\n",
       "    <tr>\n",
       "      <th>148</th>\n",
       "      <td>owari</td>\n",
       "    </tr>\n",
       "    <tr>\n",
       "      <th>150</th>\n",
       "      <td>管理者モード</td>\n",
       "    </tr>\n",
       "    <tr>\n",
       "      <th>184</th>\n",
       "      <td>由来は？</td>\n",
       "    </tr>\n",
       "    <tr>\n",
       "      <th>188</th>\n",
       "      <td>由来は？</td>\n",
       "    </tr>\n",
       "    <tr>\n",
       "      <th>190</th>\n",
       "      <td>アフター</td>\n",
       "    </tr>\n",
       "    <tr>\n",
       "      <th>194</th>\n",
       "      <td>故障</td>\n",
       "    </tr>\n",
       "    <tr>\n",
       "      <th>196</th>\n",
       "      <td>修理</td>\n",
       "    </tr>\n",
       "    <tr>\n",
       "      <th>260</th>\n",
       "      <td>神岡</td>\n",
       "    </tr>\n",
       "    <tr>\n",
       "      <th>264</th>\n",
       "      <td>おススメの車は？</td>\n",
       "    </tr>\n",
       "    <tr>\n",
       "      <th>270</th>\n",
       "      <td>新しい車が欲しいのだけど</td>\n",
       "    </tr>\n",
       "    <tr>\n",
       "      <th>284</th>\n",
       "      <td>マツコネ</td>\n",
       "    </tr>\n",
       "    <tr>\n",
       "      <th>322</th>\n",
       "      <td>車のバッテリー</td>\n",
       "    </tr>\n",
       "    <tr>\n",
       "      <th>324</th>\n",
       "      <td>神岡</td>\n",
       "    </tr>\n",
       "    <tr>\n",
       "      <th>326</th>\n",
       "      <td>神岡</td>\n",
       "    </tr>\n",
       "    <tr>\n",
       "      <th>328</th>\n",
       "      <td>zoom</td>\n",
       "    </tr>\n",
       "    <tr>\n",
       "      <th>392</th>\n",
       "      <td>zoom-zoom</td>\n",
       "    </tr>\n",
       "    <tr>\n",
       "      <th>458</th>\n",
       "      <td>教師データメンテナンス</td>\n",
       "    </tr>\n",
       "    <tr>\n",
       "      <th>696</th>\n",
       "      <td>ズーム</td>\n",
       "    </tr>\n",
       "  </tbody>\n",
       "</table>\n",
       "</div>"
      ],
      "text/plain": [
       "                                               CONTENT\n",
       "66   ボディー外板でプラスチックの未塗装部分(バンパー、サイドガーニッシュ、フェンダーモール等)が...\n",
       "68                                              管理者モード\n",
       "88                                                時刻は？\n",
       "90                                               今なんじ？\n",
       "92                                                 何時？\n",
       "94                                                  天気\n",
       "100                                               時間は？\n",
       "148                                              owari\n",
       "150                                             管理者モード\n",
       "184                                               由来は？\n",
       "188                                               由来は？\n",
       "190                                               アフター\n",
       "194                                                 故障\n",
       "196                                                 修理\n",
       "260                                                 神岡\n",
       "264                                           おススメの車は？\n",
       "270                                       新しい車が欲しいのだけど\n",
       "284                                               マツコネ\n",
       "322                                            車のバッテリー\n",
       "324                                                 神岡\n",
       "326                                                 神岡\n",
       "328                                               zoom\n",
       "392                                          zoom-zoom\n",
       "458                                        教師データメンテナンス\n",
       "696                                                ズーム"
      ]
     },
     "execution_count": 7,
     "metadata": {},
     "output_type": "execute_result"
    }
   ],
   "source": [
    "output = speech_data.loc[idx-1, ['CONTENT']]\n",
    "output"
   ]
  },
  {
   "cell_type": "code",
   "execution_count": 9,
   "metadata": {
    "scrolled": true
   },
   "outputs": [
    {
     "ename": "NameError",
     "evalue": "name 'pyperclip' is not defined",
     "output_type": "error",
     "traceback": [
      "\u001b[1;31m---------------------------------------------------------------------------\u001b[0m",
      "\u001b[1;31mNameError\u001b[0m                                 Traceback (most recent call last)",
      "\u001b[1;32m<ipython-input-9-d17f3ef44cae>\u001b[0m in \u001b[0;36m<module>\u001b[1;34m()\u001b[0m\n\u001b[1;32m----> 1\u001b[1;33m \u001b[0mpyperclip\u001b[0m\u001b[1;33m.\u001b[0m\u001b[0mcopy\u001b[0m\u001b[1;33m(\u001b[0m\u001b[0moutput\u001b[0m\u001b[1;33m)\u001b[0m\u001b[1;33m\u001b[0m\u001b[0m\n\u001b[0m",
      "\u001b[1;31mNameError\u001b[0m: name 'pyperclip' is not defined"
     ]
    }
   ],
   "source": [
    "pyperclip.copy(output)"
   ]
  }
 ],
 "metadata": {
  "kernelspec": {
   "display_name": "Python 3",
   "language": "python",
   "name": "python3"
  },
  "language_info": {
   "codemirror_mode": {
    "name": "ipython",
    "version": 3
   },
   "file_extension": ".py",
   "mimetype": "text/x-python",
   "name": "python",
   "nbconvert_exporter": "python",
   "pygments_lexer": "ipython3",
   "version": "3.7.0"
  }
 },
 "nbformat": 4,
 "nbformat_minor": 2
}
